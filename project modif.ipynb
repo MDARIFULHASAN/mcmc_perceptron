{
 "cells": [
  {
   "cell_type": "markdown",
   "metadata": {},
   "source": [
    "# Markov Project"
   ]
  },
  {
   "cell_type": "code",
   "execution_count": 1,
   "metadata": {
    "collapsed": true
   },
   "outputs": [],
   "source": [
    "import numpy as np\n",
    "import matplotlib.pyplot as plt"
   ]
  },
  {
   "cell_type": "code",
   "execution_count": 2,
   "metadata": {
    "collapsed": true
   },
   "outputs": [],
   "source": [
    "def rand_unit():\n",
    "    n = np.random.random_sample()\n",
    "    if n > 0.5: return 1\n",
    "    else: return -1"
   ]
  },
  {
   "cell_type": "code",
   "execution_count": 3,
   "metadata": {
    "collapsed": true
   },
   "outputs": [],
   "source": [
    "alpha = 5\n",
    "beta = 0.5\n",
    "N = 100"
   ]
  },
  {
   "cell_type": "code",
   "execution_count": 4,
   "metadata": {
    "collapsed": true
   },
   "outputs": [],
   "source": [
    "w_t = [rand_unit() for _ in range(N)]"
   ]
  },
  {
   "cell_type": "code",
   "execution_count": 47,
   "metadata": {
    "collapsed": true
   },
   "outputs": [],
   "source": [
    "#Puisque M varie pour pas tout recalculer à chaque fois on peut faire une matrice X_t assez grande dès le début\n",
    "max_alpha = 100\n",
    "M_max = max_alpha*N"
   ]
  },
  {
   "cell_type": "code",
   "execution_count": 48,
   "metadata": {
    "collapsed": true
   },
   "outputs": [],
   "source": [
    "# Matrix whose rows are samples\n",
    "X_t = np.random.normal(size=(M_max, N))"
   ]
  },
  {
   "cell_type": "code",
   "execution_count": 49,
   "metadata": {
    "collapsed": true
   },
   "outputs": [],
   "source": [
    "# Class labels\n",
    "y_t = [int(np.sign(X_t[i].dot(w_t))) for i in range(M_max)]"
   ]
  },
  {
   "cell_type": "code",
   "execution_count": 50,
   "metadata": {
    "collapsed": true
   },
   "outputs": [],
   "source": [
    "#On tronque X_t et y_t pour garder que M valeurs mais je pense qu'il faut changer ça en mélangeant l'ordre à chaque fois\n",
    "#Ou alors recréer la matrice X_t à chaque fois qu'on fait tourner metro_chain?\n",
    "def compute_energy(w, M):\n",
    "    v = np.sign(np.dot(X_t[:M], w)) - y_t[:M]\n",
    "    return np.vdot(v, v)/2"
   ]
  },
  {
   "cell_type": "code",
   "execution_count": 60,
   "metadata": {
    "collapsed": true
   },
   "outputs": [],
   "source": [
    "def metro_chain(alpha, beta, N, max_iters=None, energy_stop=None, verbose=False):\n",
    "    M = int(alpha * N)\n",
    "    # intialization\n",
    "    \n",
    "    current_w = [rand_unit() for _ in range(N)]\n",
    "    current_energy = compute_energy(current_w, M)\n",
    "    \n",
    "    energy = []\n",
    "    energy.append(current_energy)\n",
    "    \n",
    "    counter = 0\n",
    "    \n",
    "    if max_iters == None:\n",
    "        max_iters = np.inf\n",
    "    if energy_stop == None:\n",
    "        energy_stop = -1\n",
    "    \n",
    "    while current_energy > energy_stop and counter < max_iters:\n",
    "        current_energy = compute_energy(current_w, M)\n",
    "        \n",
    "        counter += 1\n",
    "        if verbose and counter % 100 == 0:\n",
    "            print('Iteration {} and energy : {}'.format(counter, current_energy))\n",
    "        \n",
    "        # pick coordinate at random\n",
    "        coord = np.random.randint(0, high=N)\n",
    "        \n",
    "        # flip this coordinate\n",
    "        new_w = current_w.copy()\n",
    "        new_w[coord] = -new_w[coord]\n",
    "        \n",
    "        # decide if new state is accepted \n",
    "        new_energy = compute_energy(new_w, M)\n",
    "        a = np.exp(- beta * (new_energy - current_energy))\n",
    "        \n",
    "        \n",
    "        #J'ai mis les continue en commentaire (il servent à rien non?)\n",
    "        #Et j'ai rajouté energy.append(current_energy) dans le deuxième else\n",
    "        if a >= 1:\n",
    "            current_w = new_w\n",
    "            energy.append(new_energy)\n",
    "            #continue\n",
    "        else:\n",
    "            r = np.random.random_sample()\n",
    "            if r < a:\n",
    "                current_w = new_w\n",
    "                energy.append(new_energy)\n",
    "                #continue\n",
    "            else:\n",
    "                energy.append(current_energy)\n",
    "                #continue\n",
    "                \n",
    "    return current_w, energy"
   ]
  },
  {
   "cell_type": "code",
   "execution_count": 17,
   "metadata": {
    "collapsed": true
   },
   "outputs": [],
   "source": [
    "alpha=5\n",
    "beta=0.5\n",
    "N=100"
   ]
  },
  {
   "cell_type": "code",
   "execution_count": 70,
   "metadata": {
    "collapsed": true
   },
   "outputs": [],
   "source": [
    "def get_energy(energies, num_iteration=10):\n",
    "    n = np.max([len(i) for i in energies])\n",
    "    energy = []\n",
    "    for i in range(n):\n",
    "        tmp = 0\n",
    "        counter = 0\n",
    "        for k in range(num_iteration):\n",
    "            if i < len(energies[k]):\n",
    "                tmp += energies[k][i]\n",
    "                counter += 1\n",
    "\n",
    "        energy.append(tmp/counter)\n",
    "    return energy\n",
    "    \n",
    "def get_mean_energy(alpha, beta, N, max_iters=100, verbose=False, num_iteration=10):\n",
    "    energies = []\n",
    "    for _ in range(num_iteration):\n",
    "        _, tmp = metro_chain(alpha=alpha, beta=beta, N=N, max_iters=max_iters, verbose=verbose)\n",
    "        energies.append(tmp)\n",
    "        #print(len(tmp))\n",
    "    energy = get_energy(energies, num_iteration=num_iteration)\n",
    "    return energy"
   ]
  },
  {
   "cell_type": "code",
   "execution_count": 71,
   "metadata": {},
   "outputs": [],
   "source": [
    "energy1 = get_mean_energy(alpha=1, beta=0.5, N=100, max_iters=500, num_iteration=100)"
   ]
  },
  {
   "cell_type": "code",
   "execution_count": 72,
   "metadata": {},
   "outputs": [],
   "source": [
    "energy5 = get_mean_energy(alpha=5, beta=0.5, N=100, max_iters=500, num_iteration=100)"
   ]
  },
  {
   "cell_type": "code",
   "execution_count": 73,
   "metadata": {
    "collapsed": true
   },
   "outputs": [],
   "source": [
    "energy10 = get_mean_energy(alpha=10, beta=0.5, N=100, max_iters=500, num_iteration=100)"
   ]
  },
  {
   "cell_type": "code",
   "execution_count": 74,
   "metadata": {
    "collapsed": true
   },
   "outputs": [],
   "source": [
    "energy100 = get_mean_energy(alpha=100, beta=0.5, N=100, max_iters=500, num_iteration=100)"
   ]
  },
  {
   "cell_type": "code",
   "execution_count": 75,
   "metadata": {},
   "outputs": [
    {
     "data": {
      "image/png": "[encoded data removed]",
      "text/plain": [
       "<matplotlib.figure.Figure at 0x1d8693d5780>"
      ]
     },
     "metadata": {},
     "output_type": "display_data"
    }
   ],
   "source": [
    "plt.plot(energy1)\n",
    "plt.plot(energy5)\n",
    "plt.plot(energy10)\n",
    "plt.plot(energy100)\n",
    "plt.show()\n",
    "\n",
    "#Puisque alpha varie et que l'énergie est pas normalisée elle est beaucoup plus élevée quand alpha est grand. Mais\n",
    "#dans la question ils demandent pas de la normaliser"
   ]
  },
  {
   "cell_type": "markdown",
   "metadata": {},
   "source": [
    "## Question 2"
   ]
  },
  {
   "cell_type": "code",
   "execution_count": 54,
   "metadata": {
    "collapsed": true
   },
   "outputs": [],
   "source": [
    "beta = 0.5\n",
    "T = 500\n",
    "alphas = np.arange(1, 100)"
   ]
  },
  {
   "cell_type": "code",
   "execution_count": 66,
   "metadata": {
    "collapsed": true
   },
   "outputs": [],
   "source": [
    "def normalized_energy(alpha, beta, run_count=10):\n",
    "    s = 0\n",
    "    for i in range(run_count):\n",
    "        w, _ = metro_chain(alpha=alpha, beta=beta, N=N, max_iters=T)\n",
    "        s += compute_energy(w, alpha*N)/(alpha*N)\n",
    "    return s/run_count"
   ]
  },
  {
   "cell_type": "code",
   "execution_count": 67,
   "metadata": {
    "scrolled": false
   },
   "outputs": [],
   "source": [
    "energies = [normalized_energy(alpha, beta) for alpha in alphas]"
   ]
  },
  {
   "cell_type": "code",
   "execution_count": 68,
   "metadata": {},
   "outputs": [
    {
     "data": {
      "image/png": "[encoded data removed]",
      "text/plain": [
       "<matplotlib.figure.Figure at 0x1d8694d19e8>"
      ]
     },
     "metadata": {},
     "output_type": "display_data"
    }
   ],
   "source": [
    "plt.plot(alphas, energies)\n",
    "plt.show()"
   ]
  },
  {
   "cell_type": "code",
   "execution_count": null,
   "metadata": {
    "collapsed": true
   },
   "outputs": [],
   "source": [
    "def overlap(w):\n",
    "    return np.vdot(w, w_t)/N"
   ]
  }
 ],
 "metadata": {
  "kernelspec": {
   "display_name": "Python 3",
   "language": "python",
   "name": "python3"
  },
  "language_info": {
   "codemirror_mode": {
    "name": "ipython",
    "version": 3
   },
   "file_extension": ".py",
   "mimetype": "text/x-python",
   "name": "python",
   "nbconvert_exporter": "python",
   "pygments_lexer": "ipython3",
   "version": "3.6.3"
  }
 },
 "nbformat": 4,
 "nbformat_minor": 2
}
