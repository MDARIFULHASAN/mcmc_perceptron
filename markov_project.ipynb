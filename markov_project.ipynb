{
 "cells": [
  {
   "cell_type": "markdown",
   "metadata": {},
   "source": [
    "# Markov Project"
   ]
  },
  {
   "cell_type": "code",
   "execution_count": null,
   "metadata": {},
   "outputs": [],
   "source": [
    "import numpy as np\n",
    "import matplotlib.pyplot as plt\n",
    "from utils import teachers_variables, run_model"
   ]
  },
  {
   "cell_type": "code",
   "execution_count": null,
   "metadata": {},
   "outputs": [],
   "source": [
    "N = 1000\n",
    "alpha_max = 5"
   ]
  },
  {
   "cell_type": "code",
   "execution_count": null,
   "metadata": {},
   "outputs": [],
   "source": [
    "w_t, x_t, y_t = teachers_variables(n=N, alpha_max=alpha_max)"
   ]
  },
  {
   "cell_type": "markdown",
   "metadata": {},
   "source": [
    "### Question 1"
   ]
  },
  {
   "cell_type": "code",
   "execution_count": null,
   "metadata": {},
   "outputs": [],
   "source": [
    "energy1 = run_model(alpha=1, beta=1, n=N, x_t=x_t, y_t=y_t, max_numb_states=100000, num_repetitions=1)\n",
    "print('finished 1')\n",
    "energy2 = run_model(alpha=2, beta=1, n=N, x_t=x_t, y_t=y_t, max_numb_states=100000, num_repetitions=1)\n",
    "print('finished 2')\n",
    "energy3 = run_model(alpha=3, beta=1, n=N, x_t=x_t, y_t=y_t, max_numb_states=100000, num_repetitions=1)\n",
    "print('finished 3')\n",
    "energy4 = run_model(alpha=4, beta=1, n=N, x_t=x_t, y_t=y_t, max_numb_states=100000, num_repetitions=1)\n",
    "print('finished 4')\n",
    "energy5 = run_model(alpha=5, beta=1, n=N, x_t=x_t, y_t=y_t, max_numb_states=100000, num_repetitions=1)\n",
    "print('finished 5')\n",
    "\n",
    "fig, ax = plt.subplots(nrows=3, ncols=2, figsize=(10, 13))\n",
    "ax[0][0].plot(energy1)\n",
    "ax[0][1].plot(energy2)\n",
    "ax[1][0].plot(energy3)\n",
    "ax[1][1].plot(energy4)\n",
    "ax[2][0].plot(energy5)\n",
    "plt.show()"
   ]
  },
  {
   "cell_type": "code",
   "execution_count": null,
   "metadata": {},
   "outputs": [],
   "source": [
    "energy1 = run_model(alpha=1, beta=2, n=N, x_t=x_t, y_t=y_t, max_numb_states=100000, num_repetitions=1)\n",
    "print('finished 1')\n",
    "energy2 = run_model(alpha=2, beta=2, n=N, x_t=x_t, y_t=y_t, max_numb_states=100000, num_repetitions=1)\n",
    "print('finished 2')\n",
    "energy3 = run_model(alpha=3, beta=2, n=N, x_t=x_t, y_t=y_t, max_numb_states=100000, num_repetitions=1)\n",
    "print('finished 3')\n",
    "energy4 = run_model(alpha=4, beta=2, n=N, x_t=x_t, y_t=y_t, max_numb_states=100000, num_repetitions=1)\n",
    "print('finished 4')\n",
    "energy5 = run_model(alpha=5, beta=2, n=N, x_t=x_t, y_t=y_t, max_numb_states=100000, num_repetitions=1)\n",
    "print('finished 5')\n",
    "\n",
    "fig, ax = plt.subplots(nrows=3, ncols=2, figsize=(10, 13))\n",
    "ax[0][0].plot(energy1)\n",
    "ax[0][1].plot(energy2)\n",
    "ax[1][0].plot(energy3)\n",
    "ax[1][1].plot(energy4)\n",
    "ax[2][0].plot(energy5)\n",
    "plt.show()"
   ]
  },
  {
   "cell_type": "code",
   "execution_count": null,
   "metadata": {},
   "outputs": [],
   "source": [
    "energy1 = run_model(alpha=1, beta=3, n=N, x_t=x_t, y_t=y_t, max_numb_states=100000, num_repetitions=1)\n",
    "print('finished 1')\n",
    "energy2 = run_model(alpha=2, beta=3, n=N, x_t=x_t, y_t=y_t, max_numb_states=100000, num_repetitions=1)\n",
    "print('finished 2')\n",
    "energy3 = run_model(alpha=3, beta=3, n=N, x_t=x_t, y_t=y_t, max_numb_states=100000, num_repetitions=1)\n",
    "print('finished 3')\n",
    "energy4 = run_model(alpha=4, beta=3, n=N, x_t=x_t, y_t=y_t, max_numb_states=100000, num_repetitions=1)\n",
    "print('finished 4')\n",
    "energy5 = run_model(alpha=5, beta=3, n=N, x_t=x_t, y_t=y_t, max_numb_states=100000, num_repetitions=1)\n",
    "print('finished 5')\n",
    "\n",
    "fig, ax = plt.subplots(nrows=3, ncols=2, figsize=(10, 13))\n",
    "ax[0][0].plot(energy1)\n",
    "ax[0][1].plot(energy2)\n",
    "ax[1][0].plot(energy3)\n",
    "ax[1][1].plot(energy4)\n",
    "ax[2][0].plot(energy5)\n",
    "plt.show()"
   ]
  },
  {
   "cell_type": "code",
   "execution_count": null,
   "metadata": {},
   "outputs": [],
   "source": [
    "energy1 = run_model(alpha=1, beta=4, n=N, x_t=x_t, y_t=y_t, max_numb_states=100000, num_repetitions=1)\n",
    "print('finished 1')\n",
    "energy2 = run_model(alpha=2, beta=4, n=N, x_t=x_t, y_t=y_t, max_numb_states=100000, num_repetitions=1)\n",
    "print('finished 2')\n",
    "energy3 = run_model(alpha=3, beta=4, n=N, x_t=x_t, y_t=y_t, max_numb_states=100000, num_repetitions=1)\n",
    "print('finished 3')\n",
    "energy4 = run_model(alpha=4, beta=4, n=N, x_t=x_t, y_t=y_t, max_numb_states=100000, num_repetitions=1)\n",
    "print('finished 4')\n",
    "energy5 = run_model(alpha=5, beta=4, n=N, x_t=x_t, y_t=y_t, max_numb_states=100000, num_repetitions=1)\n",
    "print('finished 5')\n",
    "\n",
    "fig, ax = plt.subplots(nrows=3, ncols=2, figsize=(10, 13))\n",
    "ax[0][0].plot(energy1)\n",
    "ax[0][1].plot(energy2)\n",
    "ax[1][0].plot(energy3)\n",
    "ax[1][1].plot(energy4)\n",
    "ax[2][0].plot(energy5)\n",
    "plt.show()"
   ]
  },
  {
   "cell_type": "code",
   "execution_count": null,
   "metadata": {},
   "outputs": [],
   "source": [
    "energy1 = run_model(alpha=1, beta=5, n=N, x_t=x_t, y_t=y_t, max_numb_states=100000, num_repetitions=1)\n",
    "print('finished 1')\n",
    "energy2 = run_model(alpha=2, beta=5, n=N, x_t=x_t, y_t=y_t, max_numb_states=100000, num_repetitions=1)\n",
    "print('finished 2')\n",
    "energy3 = run_model(alpha=3, beta=5, n=N, x_t=x_t, y_t=y_t, max_numb_states=100000, num_repetitions=1)\n",
    "print('finished 3')\n",
    "energy4 = run_model(alpha=4, beta=5, n=N, x_t=x_t, y_t=y_t, max_numb_states=100000, num_repetitions=1)\n",
    "print('finished 4')\n",
    "energy5 = run_model(alpha=5, beta=5, n=N, x_t=x_t, y_t=y_t, max_numb_states=100000, num_repetitions=1)\n",
    "print('finished 5')\n",
    "\n",
    "fig, ax = plt.subplots(nrows=3, ncols=2, figsize=(10, 13))\n",
    "ax[0][0].plot(energy1)\n",
    "ax[0][1].plot(energy2)\n",
    "ax[1][0].plot(energy3)\n",
    "ax[1][1].plot(energy4)\n",
    "ax[2][0].plot(energy5)\n",
    "plt.show()"
   ]
  },
  {
   "cell_type": "markdown",
   "metadata": {},
   "source": [
    "### Question 2"
   ]
  },
  {
   "cell_type": "code",
   "execution_count": null,
   "metadata": {},
   "outputs": [],
   "source": [
    "beta = 0.5\n",
    "T = 500\n",
    "alphas = np.arange(1, 100)"
   ]
  },
  {
   "cell_type": "code",
   "execution_count": null,
   "metadata": {},
   "outputs": [],
   "source": [
    "def normalized_energy(x_t, y_t, alpha, beta, n, max_numb_states, num_repetitions=10):\n",
    "    tmp = 0\n",
    "    for i in range(num_repetitions):\n",
    "        w, _ = metro_chain(x_t=x_t, y_t=y_t, alpha=alpha, beta=beta, n=n, max_numb_states=max_numb_states)\n",
    "        tmp += compute_energy(w, alpha*N)/(alpha*N)\n",
    "    return s/num_repetitions"
   ]
  },
  {
   "cell_type": "code",
   "execution_count": null,
   "metadata": {
    "scrolled": false
   },
   "outputs": [],
   "source": [
    "energies = [normalized_energy(x_t, y_t, alpha, beta, N, max_numb_states=T) for alpha in alphas]\n",
    "plt.plot(alphas, energies)\n",
    "plt.show()"
   ]
  },
  {
   "cell_type": "markdown",
   "metadata": {},
   "source": [
    "### Question 3"
   ]
  },
  {
   "cell_type": "code",
   "execution_count": null,
   "metadata": {},
   "outputs": [],
   "source": [
    "def overlap(x_t, y_t, alpha, beta, n, max_numb_states, num_repetitions=10):\n",
    "    tmp = 0\n",
    "    for i in range(num_repetitions):\n",
    "        w, _ = metro_chain(x_t=x_t, y_t=y_t, alpha=alpha, beta=beta, n=n, max_numb_states=max_numb_states)\n",
    "        tmp += np.vdot(w, w_t)/N\n",
    "    return s/num_repetitions"
   ]
  },
  {
   "cell_type": "code",
   "execution_count": null,
   "metadata": {},
   "outputs": [],
   "source": [
    "overlaps = [overlap(x_t, y_t, alpha, beta, N, max_numb_states=T) for alpha in alphas]\n",
    "plt.plot(alphas, overlaps)\n",
    "plt.show()"
   ]
  },
  {
   "cell_type": "markdown",
   "metadata": {},
   "source": [
    "### Question 4 : Simulated annealing"
   ]
  },
  {
   "cell_type": "code",
   "execution_count": null,
   "metadata": {},
   "outputs": [],
   "source": [
    "from utils import simulated_annealing"
   ]
  },
  {
   "cell_type": "code",
   "execution_count": null,
   "metadata": {},
   "outputs": [],
   "source": [
    "initial_beta = 0.5\n",
    "beta_pace = 1000\n",
    "beta_increase = 0.5"
   ]
  },
  {
   "cell_type": "code",
   "execution_count": null,
   "metadata": {},
   "outputs": [],
   "source": [
    "simulated_annealing(x_t, y_t, alpha, initial_beta, beta_pace, beta_increase, n, max_numb_states=100,\n",
    "                    num_repetitions=10, verbose=False):"
   ]
  }
 ],
 "metadata": {
  "kernelspec": {
   "display_name": "Python 3",
   "language": "python",
   "name": "python3"
  },
  "language_info": {
   "codemirror_mode": {
    "name": "ipython",
    "version": 3
   },
   "file_extension": ".py",
   "mimetype": "text/x-python",
   "name": "python",
   "nbconvert_exporter": "python",
   "pygments_lexer": "ipython3",
   "version": "3.5.3"
  }
 },
 "nbformat": 4,
 "nbformat_minor": 2
}
