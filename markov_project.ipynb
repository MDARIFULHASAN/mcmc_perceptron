{
 "cells": [
  {
   "cell_type": "markdown",
   "metadata": {},
   "source": [
    "# Markov Project"
   ]
  },
  {
   "cell_type": "code",
   "execution_count": 2,
   "metadata": {},
   "outputs": [],
   "source": [
    "import numpy as np\n",
    "import matplotlib.pyplot as plt\n",
    "from utils import teachers_variables, run_model"
   ]
  },
  {
   "cell_type": "code",
   "execution_count": 3,
   "metadata": {},
   "outputs": [],
   "source": [
    "N = 1000\n",
    "alpha_max = 5"
   ]
  },
  {
   "cell_type": "code",
   "execution_count": 4,
   "metadata": {},
   "outputs": [],
   "source": [
    "w_t, x_t, y_t = teachers_variables(n=N, alpha_max=alpha_max)"
   ]
  },
  {
   "cell_type": "code",
   "execution_count": null,
   "metadata": {},
   "outputs": [],
   "source": [
    "energy1 = run_model(alpha=1, beta=0.5, n=N, x_t=x_t, y_t=y_t, max_numb_states=100000, num_repetitions=10)\n",
    "plt.plot(energy1)\n",
    "plt.show()"
   ]
  },
  {
   "cell_type": "code",
   "execution_count": null,
   "metadata": {},
   "outputs": [],
   "source": [
    "energy2 = run_model(alpha=2, beta=0.5, n=N, x_t=x_t, y_t=y_t, max_numb_states=100000, num_repetitions=100)\n",
    "plt.plot(energy1)\n",
    "plt.show()"
   ]
  },
  {
   "cell_type": "code",
   "execution_count": null,
   "metadata": {},
   "outputs": [],
   "source": [
    "energy3 = run_model(alpha=3, beta=0.5, n=N, x_t=x_t, y_t=y_t, max_numb_states=100000, num_repetitions=100)\n",
    "plt.plot(energy1)\n",
    "plt.show()"
   ]
  },
  {
   "cell_type": "code",
   "execution_count": null,
   "metadata": {},
   "outputs": [],
   "source": [
    "energy4 = run_model(alpha=4, beta=0.5, n=N, x_t=x_t, y_t=y_t, max_numb_states=100000, num_repetitions=100)\n",
    "plt.plot(energy1)\n",
    "plt.show()"
   ]
  },
  {
   "cell_type": "code",
   "execution_count": null,
   "metadata": {},
   "outputs": [],
   "source": [
    "energy5 = run_model(alpha=5, beta=0.5, n=N, x_t=x_t, y_t=y_t, max_numb_states=100000, num_repetitions=100)\n",
    "plt.plot(energy1)\n",
    "plt.show()"
   ]
  },
  {
   "cell_type": "markdown",
   "metadata": {},
   "source": [
    "## Question 2"
   ]
  },
  {
   "cell_type": "code",
   "execution_count": 54,
   "metadata": {
    "collapsed": true
   },
   "outputs": [],
   "source": [
    "beta = 0.5\n",
    "T = 500\n",
    "alphas = np.arange(1, 100)"
   ]
  },
  {
   "cell_type": "code",
   "execution_count": 66,
   "metadata": {
    "collapsed": true
   },
   "outputs": [],
   "source": [
    "def normalized_energy(x_t, y_t, alpha, beta, n, max_numb_states, num_repetitions=10):\n",
    "    tmp = 0\n",
    "    for i in range(num_repetitions):\n",
    "        w, _ = metro_chain(x_t=x_t, y_t=y_t, alpha=alpha, beta=beta, n=n, max_numb_states=max_numb_states)\n",
    "        tmp += compute_energy(w, alpha*N)/(alpha*N)\n",
    "    return s/num_repetitions"
   ]
  },
  {
   "cell_type": "code",
   "execution_count": 67,
   "metadata": {
    "scrolled": false
   },
   "outputs": [],
   "source": [
    "energies = [normalized_energy(x_t, y_t, alpha, beta, N, max_numb_states=T) for alpha in alphas]\n",
    "plt.plot(alphas, energies)\n",
    "plt.show()"
   ]
  },
  {
   "cell_type": "code",
   "execution_count": null,
   "metadata": {
    "collapsed": true
   },
   "outputs": [],
   "source": [
    "def overlap(w):\n",
    "    return np.vdot(w, w_t)/N"
   ]
  }
 ],
 "metadata": {
  "kernelspec": {
   "display_name": "Python 3",
   "language": "python",
   "name": "python3"
  },
  "language_info": {
   "codemirror_mode": {
    "name": "ipython",
    "version": 3
   },
   "file_extension": ".py",
   "mimetype": "text/x-python",
   "name": "python",
   "nbconvert_exporter": "python",
   "pygments_lexer": "ipython3",
   "version": "3.5.3"
  }
 },
 "nbformat": 4,
 "nbformat_minor": 2
}
