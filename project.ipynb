{
 "cells": [
  {
   "cell_type": "markdown",
   "metadata": {},
   "source": [
    "# Markov Project"
   ]
  },
  {
   "cell_type": "code",
   "execution_count": 1,
   "metadata": {},
   "outputs": [],
   "source": [
    "import numpy as np"
   ]
  },
  {
   "cell_type": "code",
   "execution_count": 18,
   "metadata": {},
   "outputs": [],
   "source": [
    "def rand_unit():\n",
    "    n = np.random.random_sample()\n",
    "    if n > 0.5: return 1\n",
    "    else: return -1"
   ]
  },
  {
   "cell_type": "code",
   "execution_count": 37,
   "metadata": {},
   "outputs": [],
   "source": [
    "N = 10\n",
    "M = 100\n",
    "beta = 10"
   ]
  },
  {
   "cell_type": "code",
   "execution_count": 20,
   "metadata": {},
   "outputs": [],
   "source": [
    "w_t = [rand_unit() for _ in range(N)]"
   ]
  },
  {
   "cell_type": "code",
   "execution_count": 25,
   "metadata": {},
   "outputs": [],
   "source": [
    "# Matrix whose rows are samples\n",
    "X_t = np.random.normal(size=(M, N))"
   ]
  },
  {
   "cell_type": "code",
   "execution_count": 32,
   "metadata": {},
   "outputs": [],
   "source": [
    "# Class labels\n",
    "y_t = [int(np.sign(X[i].dot(w_t))) for i in range(M)]"
   ]
  },
  {
   "cell_type": "code",
   "execution_count": 33,
   "metadata": {},
   "outputs": [],
   "source": [
    "def compute_energy(w):\n",
    "    s = 0\n",
    "    for i in range(M):\n",
    "        s += (y_t[i] - int(np.sign(X[i].dot(w))))**2\n",
    "    return s/2"
   ]
  },
  {
   "cell_type": "code",
   "execution_count": 34,
   "metadata": {},
   "outputs": [
    {
     "data": {
      "text/plain": [
       "0.0"
      ]
     },
     "execution_count": 34,
     "metadata": {},
     "output_type": "execute_result"
    }
   ],
   "source": [
    "compute_energy(w_t)"
   ]
  },
  {
   "cell_type": "code",
   "execution_count": null,
   "metadata": {},
   "outputs": [],
   "source": [
    "# intialization\n",
    "current_w = [rand_unit() for _ in range(N)]\n",
    "\n",
    "while True: # find stoping criteria\n",
    "    coord = np.random.randint(0, high=N)\n",
    "    new_w = current_w.copy()\n",
    "    new_w[coord] = -new_w[coord]\n",
    "    new_energy = compute_energy(new_w)\n",
    "    a = np.exp(- beta * (new_energy - compute_energy(current_w)))\n",
    "    if a >= 1:\n",
    "        current_w = new_w\n",
    "        continue\n",
    "    else:\n",
    "        r = np.random.random_sample()\n",
    "        if r < a:\n",
    "            current_w = new_w\n",
    "            print(new_energy)\n",
    "            continue\n",
    "        else:\n",
    "            continue\n"
   ]
  },
  {
   "cell_type": "code",
   "execution_count": null,
   "metadata": {},
   "outputs": [],
   "source": []
  }
 ],
 "metadata": {
  "kernelspec": {
   "display_name": "Python 3",
   "language": "python",
   "name": "python3"
  },
  "language_info": {
   "codemirror_mode": {
    "name": "ipython",
    "version": 3
   },
   "file_extension": ".py",
   "mimetype": "text/x-python",
   "name": "python",
   "nbconvert_exporter": "python",
   "pygments_lexer": "ipython3",
   "version": "3.5.3"
  }
 },
 "nbformat": 4,
 "nbformat_minor": 2
}
