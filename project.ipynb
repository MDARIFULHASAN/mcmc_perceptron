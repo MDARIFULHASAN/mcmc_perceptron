{
 "cells": [
  {
   "cell_type": "markdown",
   "metadata": {},
   "source": [
    "# Markov Project"
   ]
  },
  {
   "cell_type": "code",
   "execution_count": 42,
   "metadata": {},
   "outputs": [],
   "source": [
    "import numpy as np\n",
    "import matplotlib.pyplot as plt"
   ]
  },
  {
   "cell_type": "code",
   "execution_count": 2,
   "metadata": {},
   "outputs": [],
   "source": [
    "def rand_unit():\n",
    "    n = np.random.random_sample()\n",
    "    if n > 0.5: return 1\n",
    "    else: return -1"
   ]
  },
  {
   "cell_type": "code",
   "execution_count": 25,
   "metadata": {},
   "outputs": [],
   "source": [
    "alpha = 5\n",
    "beta = 0.5\n",
    "N = 100"
   ]
  },
  {
   "cell_type": "code",
   "execution_count": 26,
   "metadata": {},
   "outputs": [],
   "source": [
    "w_t = [rand_unit() for _ in range(N)]"
   ]
  },
  {
   "cell_type": "code",
   "execution_count": 27,
   "metadata": {},
   "outputs": [],
   "source": [
    "# Matrix whose rows are samples\n",
    "X_t = np.random.normal(size=(M, N))"
   ]
  },
  {
   "cell_type": "code",
   "execution_count": 28,
   "metadata": {},
   "outputs": [],
   "source": [
    "# Class labels\n",
    "y_t = [int(np.sign(X_t[i].dot(w_t))) for i in range(M)]"
   ]
  },
  {
   "cell_type": "code",
   "execution_count": 29,
   "metadata": {},
   "outputs": [],
   "source": [
    "def compute_energy(w):\n",
    "    s = 0\n",
    "    for i in range(M):\n",
    "        s += (y_t[i] - int(np.sign(X_t[i].dot(w))))**2\n",
    "    return s/2"
   ]
  },
  {
   "cell_type": "code",
   "execution_count": 38,
   "metadata": {},
   "outputs": [],
   "source": [
    "def metro_chain(alpha, beta, N, verbose=False):\n",
    "    M = int(alpha * N)\n",
    "    # intialization\n",
    "    \n",
    "    current_w = [rand_unit() for _ in range(N)]\n",
    "    current_energy = compute_energy(current_w)\n",
    "    \n",
    "    energy = []\n",
    "    energy.append(current_energy)\n",
    "    \n",
    "    counter = 0\n",
    "    \n",
    "    while current_energy > 0:\n",
    "        current_energy = compute_energy(current_w)\n",
    "        \n",
    "        counter += 1\n",
    "        if verbose and counter % 100 == 0:\n",
    "            print('Iteration {} and energy : {}'.format(counter, current_energy))\n",
    "        \n",
    "        # pick coordinate at random\n",
    "        coord = np.random.randint(0, high=N)\n",
    "        \n",
    "        # flip this coordinate\n",
    "        new_w = current_w.copy()\n",
    "        new_w[coord] = -new_w[coord]\n",
    "        \n",
    "        # decide if new state is accepted \n",
    "        new_energy = compute_energy(new_w)\n",
    "        a = np.exp(- beta * (new_energy - current_energy))\n",
    "        if a >= 1:\n",
    "            current_w = new_w\n",
    "            energy.append(new_energy)\n",
    "            continue\n",
    "        else:\n",
    "            r = np.random.random_sample()\n",
    "            if r < a:\n",
    "                current_w = new_w\n",
    "                energy.append(new_energy)\n",
    "                continue\n",
    "            else:\n",
    "                continue\n",
    "                \n",
    "    return energy"
   ]
  },
  {
   "cell_type": "code",
   "execution_count": 47,
   "metadata": {},
   "outputs": [],
   "source": [
    "def get_energy(energies, num_iteration=10):\n",
    "    n = np.max([len(i) for i in energies])\n",
    "    energy = []\n",
    "    for i in range(n):\n",
    "        tmp = 0\n",
    "        counter = 0\n",
    "        for k in range(num_iteration):\n",
    "            if i < len(energies[k]):\n",
    "                tmp += energies[k][i]\n",
    "                counter += 1\n",
    "\n",
    "        energy.append(tmp/counter)\n",
    "    return energy\n",
    "    \n",
    "def get_mean_energy(alpha, beta, N, verbose=False, num_iteration=10):\n",
    "    energies = []\n",
    "    for _ in range(num_iteration):\n",
    "        tmp = metro_chain(alpha=alpha, beta=beta, N=N, verbose=verbose)\n",
    "        energies.append(tmp)\n",
    "        print(len(tmp))\n",
    "    energy = get_energy(energies, num_iteration=num_iteration)\n",
    "    return energy"
   ]
  },
  {
   "cell_type": "code",
   "execution_count": 48,
   "metadata": {},
   "outputs": [
    {
     "name": "stdout",
     "output_type": "stream",
     "text": [
      "122\n",
      "102\n",
      "152\n",
      "148\n",
      "114\n",
      "185\n",
      "94\n",
      "114\n",
      "166\n",
      "165\n"
     ]
    }
   ],
   "source": [
    "energy = get_mean_energy(alpha=5, beta=0.5, N=100)"
   ]
  },
  {
   "cell_type": "code",
   "execution_count": 50,
   "metadata": {},
   "outputs": [
    {
     "data": {
      "image/png": "[encoded data removed]",
      "text/plain": [
       "<matplotlib.figure.Figure at 0x7f7eb6bdfda0>"
      ]
     },
     "metadata": {},
     "output_type": "display_data"
    }
   ],
   "source": [
    "plt.plot(energy)\n",
    "plt.show()"
   ]
  },
  {
   "cell_type": "code",
   "execution_count": null,
   "metadata": {},
   "outputs": [],
   "source": []
  }
 ],
 "metadata": {
  "kernelspec": {
   "display_name": "Python 3",
   "language": "python",
   "name": "python3"
  },
  "language_info": {
   "codemirror_mode": {
    "name": "ipython",
    "version": 3
   },
   "file_extension": ".py",
   "mimetype": "text/x-python",
   "name": "python",
   "nbconvert_exporter": "python",
   "pygments_lexer": "ipython3",
   "version": "3.5.3"
  }
 },
 "nbformat": 4,
 "nbformat_minor": 2
}
